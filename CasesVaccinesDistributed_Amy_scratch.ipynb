{
 "cells": [
  {
   "cell_type": "code",
   "execution_count": 1,
   "id": "devoted-bathroom",
   "metadata": {},
   "outputs": [],
   "source": [
    "# Dependencies\n",
    "%matplotlib inline\n",
    "import requests\n",
    "import json\n",
    "import pandas as pd\n",
    "import matplotlib.pyplot as plt\n",
    "from matplotlib import rc\n",
    "import scipy.stats as st\n",
    "from scipy.stats import linregress\n",
    "import seaborn as sns\n",
    "import gmaps\n",
    "import numpy as np\n",
    "\n"
   ]
  },
  {
   "cell_type": "code",
   "execution_count": 2,
   "id": "entertaining-serum",
   "metadata": {},
   "outputs": [],
   "source": [
    "# Import merged vaccine and case data\n",
    "VaxCase_df = pd.read_csv(\"Merge1_cases_vax_06FEB21.csv\")"
   ]
  },
  {
   "cell_type": "code",
   "execution_count": 3,
   "id": "sunset-applicant",
   "metadata": {},
   "outputs": [],
   "source": [
    "# Drop the weird extra column\n",
    "VaxCase_df.drop(\"Unnamed: 0\",axis=1,inplace=True)"
   ]
  },
  {
   "cell_type": "code",
   "execution_count": 4,
   "id": "played-passport",
   "metadata": {},
   "outputs": [
    {
     "data": {
      "text/html": [
       "<div>\n",
       "<style scoped>\n",
       "    .dataframe tbody tr th:only-of-type {\n",
       "        vertical-align: middle;\n",
       "    }\n",
       "\n",
       "    .dataframe tbody tr th {\n",
       "        vertical-align: top;\n",
       "    }\n",
       "\n",
       "    .dataframe thead th {\n",
       "        text-align: right;\n",
       "    }\n",
       "</style>\n",
       "<table border=\"1\" class=\"dataframe\">\n",
       "  <thead>\n",
       "    <tr style=\"text-align: right;\">\n",
       "      <th></th>\n",
       "      <th>date</th>\n",
       "      <th>STABBREV</th>\n",
       "      <th>positive</th>\n",
       "      <th>State</th>\n",
       "      <th>Tot_Deliv</th>\n",
       "      <th>Tot_Admin</th>\n",
       "      <th>First_Dose</th>\n",
       "      <th>Two_Doses</th>\n",
       "    </tr>\n",
       "  </thead>\n",
       "  <tbody>\n",
       "    <tr>\n",
       "      <th>0</th>\n",
       "      <td>20210206</td>\n",
       "      <td>AK</td>\n",
       "      <td>53279</td>\n",
       "      <td>Alaska</td>\n",
       "      <td>248500</td>\n",
       "      <td>139147</td>\n",
       "      <td>103163</td>\n",
       "      <td>35773</td>\n",
       "    </tr>\n",
       "    <tr>\n",
       "      <th>1</th>\n",
       "      <td>20210206</td>\n",
       "      <td>AL</td>\n",
       "      <td>471311</td>\n",
       "      <td>Alabama</td>\n",
       "      <td>804100</td>\n",
       "      <td>455173</td>\n",
       "      <td>370275</td>\n",
       "      <td>84278</td>\n",
       "    </tr>\n",
       "    <tr>\n",
       "      <th>2</th>\n",
       "      <td>20210206</td>\n",
       "      <td>AR</td>\n",
       "      <td>306064</td>\n",
       "      <td>Arkansas</td>\n",
       "      <td>540050</td>\n",
       "      <td>374674</td>\n",
       "      <td>290153</td>\n",
       "      <td>81564</td>\n",
       "    </tr>\n",
       "    <tr>\n",
       "      <th>3</th>\n",
       "      <td>20210206</td>\n",
       "      <td>AZ</td>\n",
       "      <td>779093</td>\n",
       "      <td>Arizona</td>\n",
       "      <td>1186000</td>\n",
       "      <td>766788</td>\n",
       "      <td>629750</td>\n",
       "      <td>136236</td>\n",
       "    </tr>\n",
       "    <tr>\n",
       "      <th>4</th>\n",
       "      <td>20210206</td>\n",
       "      <td>CA</td>\n",
       "      <td>3320862</td>\n",
       "      <td>California</td>\n",
       "      <td>6963500</td>\n",
       "      <td>4137600</td>\n",
       "      <td>3389906</td>\n",
       "      <td>727993</td>\n",
       "    </tr>\n",
       "  </tbody>\n",
       "</table>\n",
       "</div>"
      ],
      "text/plain": [
       "       date STABBREV  positive       State  Tot_Deliv  Tot_Admin  First_Dose  \\\n",
       "0  20210206       AK     53279      Alaska     248500     139147      103163   \n",
       "1  20210206       AL    471311     Alabama     804100     455173      370275   \n",
       "2  20210206       AR    306064    Arkansas     540050     374674      290153   \n",
       "3  20210206       AZ    779093     Arizona    1186000     766788      629750   \n",
       "4  20210206       CA   3320862  California    6963500    4137600     3389906   \n",
       "\n",
       "   Two_Doses  \n",
       "0      35773  \n",
       "1      84278  \n",
       "2      81564  \n",
       "3     136236  \n",
       "4     727993  "
      ]
     },
     "execution_count": 4,
     "metadata": {},
     "output_type": "execute_result"
    }
   ],
   "source": [
    "VaxCase_df.head()"
   ]
  },
  {
   "cell_type": "code",
   "execution_count": 5,
   "id": "searching-instrumentation",
   "metadata": {},
   "outputs": [
    {
     "data": {
      "text/html": [
       "<div>\n",
       "<style scoped>\n",
       "    .dataframe tbody tr th:only-of-type {\n",
       "        vertical-align: middle;\n",
       "    }\n",
       "\n",
       "    .dataframe tbody tr th {\n",
       "        vertical-align: top;\n",
       "    }\n",
       "\n",
       "    .dataframe thead th {\n",
       "        text-align: right;\n",
       "    }\n",
       "</style>\n",
       "<table border=\"1\" class=\"dataframe\">\n",
       "  <thead>\n",
       "    <tr style=\"text-align: right;\">\n",
       "      <th></th>\n",
       "      <th>date</th>\n",
       "      <th>STABBREV</th>\n",
       "      <th>positive</th>\n",
       "      <th>State</th>\n",
       "      <th>Tot_Deliv</th>\n",
       "      <th>Tot_Admin</th>\n",
       "      <th>First_Dose</th>\n",
       "      <th>Two_Doses</th>\n",
       "    </tr>\n",
       "  </thead>\n",
       "  <tbody>\n",
       "    <tr>\n",
       "      <th>0</th>\n",
       "      <td>20210206</td>\n",
       "      <td>AK</td>\n",
       "      <td>53279</td>\n",
       "      <td>Alaska</td>\n",
       "      <td>248500</td>\n",
       "      <td>139147</td>\n",
       "      <td>103163</td>\n",
       "      <td>35773</td>\n",
       "    </tr>\n",
       "    <tr>\n",
       "      <th>1</th>\n",
       "      <td>20210206</td>\n",
       "      <td>AL</td>\n",
       "      <td>471311</td>\n",
       "      <td>Alabama</td>\n",
       "      <td>804100</td>\n",
       "      <td>455173</td>\n",
       "      <td>370275</td>\n",
       "      <td>84278</td>\n",
       "    </tr>\n",
       "    <tr>\n",
       "      <th>2</th>\n",
       "      <td>20210206</td>\n",
       "      <td>AR</td>\n",
       "      <td>306064</td>\n",
       "      <td>Arkansas</td>\n",
       "      <td>540050</td>\n",
       "      <td>374674</td>\n",
       "      <td>290153</td>\n",
       "      <td>81564</td>\n",
       "    </tr>\n",
       "    <tr>\n",
       "      <th>3</th>\n",
       "      <td>20210206</td>\n",
       "      <td>AZ</td>\n",
       "      <td>779093</td>\n",
       "      <td>Arizona</td>\n",
       "      <td>1186000</td>\n",
       "      <td>766788</td>\n",
       "      <td>629750</td>\n",
       "      <td>136236</td>\n",
       "    </tr>\n",
       "    <tr>\n",
       "      <th>4</th>\n",
       "      <td>20210206</td>\n",
       "      <td>CA</td>\n",
       "      <td>3320862</td>\n",
       "      <td>California</td>\n",
       "      <td>6963500</td>\n",
       "      <td>4137600</td>\n",
       "      <td>3389906</td>\n",
       "      <td>727993</td>\n",
       "    </tr>\n",
       "  </tbody>\n",
       "</table>\n",
       "</div>"
      ],
      "text/plain": [
       "       date STABBREV  positive       State  Tot_Deliv  Tot_Admin  First_Dose  \\\n",
       "0  20210206       AK     53279      Alaska     248500     139147      103163   \n",
       "1  20210206       AL    471311     Alabama     804100     455173      370275   \n",
       "2  20210206       AR    306064    Arkansas     540050     374674      290153   \n",
       "3  20210206       AZ    779093     Arizona    1186000     766788      629750   \n",
       "4  20210206       CA   3320862  California    6963500    4137600     3389906   \n",
       "\n",
       "   Two_Doses  \n",
       "0      35773  \n",
       "1      84278  \n",
       "2      81564  \n",
       "3     136236  \n",
       "4     727993  "
      ]
     },
     "execution_count": 5,
     "metadata": {},
     "output_type": "execute_result"
    }
   ],
   "source": [
    "VaxCase_df.groupby(by=[\"STABBREV\"])\n",
    "VaxCase_df.head()\n"
   ]
  },
  {
   "cell_type": "code",
   "execution_count": 6,
   "id": "residential-uniform",
   "metadata": {},
   "outputs": [],
   "source": [
    "# Plot number of cases and total vaccines delivered to state\n",
    "x = VaxCase_df['positive']\n",
    "y = VaxCase_df['Tot_Deliv']\n",
    "\n",
    "#VaxCase_df.plot.scatter(x, y)"
   ]
  },
  {
   "cell_type": "code",
   "execution_count": 7,
   "id": "capital-agreement",
   "metadata": {},
   "outputs": [
    {
     "data": {
      "image/png": "[encoded data removed]",
      "text/plain": [
       "<Figure size 432x288 with 1 Axes>"
      ]
     },
     "metadata": {
      "needs_background": "light"
     },
     "output_type": "display_data"
    }
   ],
   "source": [
    "plt.scatter(x,y)\n",
    "plt.xlabel('Positive viral cases')\n",
    "plt.ylabel('Vaccines delivered to state')\n",
    "plt.show()"
   ]
  },
  {
   "cell_type": "code",
   "execution_count": 8,
   "id": "convenient-prisoner",
   "metadata": {},
   "outputs": [
    {
     "data": {
      "image/png": "[encoded data removed]",
      "text/plain": [
       "<Figure size 864x360 with 1 Axes>"
      ]
     },
     "metadata": {
      "needs_background": "light"
     },
     "output_type": "display_data"
    }
   ],
   "source": [
    "plt.figure(figsize=(12,5))\n",
    "plt.scatter(VaxCase_df.iloc[:,2],VaxCase_df.iloc[:,4])\n",
    "plt.xlabel('Positive viral cases (millions)')\n",
    "plt.ylabel('Vaccines delivered to state (millions)')\n",
    "plt.title(\"Number of confirmed cases and vaccines distributed\")\n",
    "\n",
    "plt.show()"
   ]
  },
  {
   "cell_type": "code",
   "execution_count": 9,
   "id": "adverse-alfred",
   "metadata": {},
   "outputs": [
    {
     "data": {
      "text/plain": [
       "Text(63.625, 0.5, 'Vaccines delivered to state (millions)')"
      ]
     },
     "execution_count": 9,
     "metadata": {},
     "output_type": "execute_result"
    },
    {
     "data": {
      "image/png": "[encoded data removed]",
      "text/plain": [
       "<Figure size 648x360 with 1 Axes>"
      ]
     },
     "metadata": {
      "needs_background": "light"
     },
     "output_type": "display_data"
    }
   ],
   "source": [
    "# Add the linear regression equation and line to plot\n",
    "x = VaxCase_df['positive']\n",
    "y = VaxCase_df['Tot_Deliv']\n",
    "(slope, intercept, rvalue, pvalue, stderr) = linregress(x, y)\n",
    "regress_values = x * slope + intercept\n",
    "line_eq = \"y = \" + str(round(slope,2)) + \"x + \" + str(round(intercept,2))\n",
    "plt.figure(figsize=(9,5))\n",
    "# plt.savefig('DosesCasesLR.png', dpi=300)\n",
    "plt.scatter(x,y)\n",
    "# plt.savefig('DosesCasesLR.png', dpi=300)\n",
    "plt.plot(x,regress_values,\"r-\")\n",
    "plt.savefig('DosesCasesLR.png', dpi=300)\n",
    "plt.title(\"Number of confirmed cases and vaccines distributed to states\",fontsize=16,fontname=\"Franklin Gothic Medium\")\n",
    "plt.xlabel('Positive viral cases (millions)')\n",
    "plt.ylabel('Vaccines delivered to state (millions)')\n",
    "#plt.show()"
   ]
  },
  {
   "cell_type": "code",
   "execution_count": 10,
   "id": "buried-equilibrium",
   "metadata": {},
   "outputs": [],
   "source": [
    "# There is strong positive correlation between vaccines delivered to states and the number of positive viral cases."
   ]
  },
  {
   "cell_type": "code",
   "execution_count": 11,
   "id": "nervous-article",
   "metadata": {
    "scrolled": true
   },
   "outputs": [
    {
     "data": {
      "image/png": "[encoded data removed]",
      "text/plain": [
       "<Figure size 1440x360 with 1 Axes>"
      ]
     },
     "metadata": {
      "needs_background": "light"
     },
     "output_type": "display_data"
    }
   ],
   "source": [
    "Vax = VaxCase_df.plot(x='STABBREV', y=['Tot_Deliv', 'positive'], kind=\"bar\", figsize=(20,5),color={'Tot_Deliv': \"yellowgreen\", 'positive': \"tomato\"})\n",
    "\n",
    "Vax.set_ylim((0, 7500000))\n",
    "Vax.set_xlabel(\"State\")\n",
    "Vax.set_ylabel(\"Millions\")\n",
    "Vax.legend([\"Total vaccines delivered\", \"Cumulative confirmed cases\"]);\n",
    "plt.title(\"Doses of Vaccine Delivered and Number of Confirmed Cases per State (as of Feb.6, 2021)\",fontsize=20,fontname=\"Franklin Gothic Medium\")\n",
    "plt.savefig('DosesCasesBar.png', dpi=300)"
   ]
  },
  {
   "cell_type": "code",
   "execution_count": 12,
   "id": "controlling-topic",
   "metadata": {
    "scrolled": true
   },
   "outputs": [
    {
     "data": {
      "text/html": [
       "<div>\n",
       "<style scoped>\n",
       "    .dataframe tbody tr th:only-of-type {\n",
       "        vertical-align: middle;\n",
       "    }\n",
       "\n",
       "    .dataframe tbody tr th {\n",
       "        vertical-align: top;\n",
       "    }\n",
       "\n",
       "    .dataframe thead th {\n",
       "        text-align: right;\n",
       "    }\n",
       "</style>\n",
       "<table border=\"1\" class=\"dataframe\">\n",
       "  <thead>\n",
       "    <tr style=\"text-align: right;\">\n",
       "      <th></th>\n",
       "      <th>Name</th>\n",
       "      <th>Population</th>\n",
       "    </tr>\n",
       "  </thead>\n",
       "  <tbody>\n",
       "    <tr>\n",
       "      <th>0</th>\n",
       "      <td>Alabama</td>\n",
       "      <td>4876250</td>\n",
       "    </tr>\n",
       "    <tr>\n",
       "      <th>1</th>\n",
       "      <td>Alaska</td>\n",
       "      <td>737068</td>\n",
       "    </tr>\n",
       "    <tr>\n",
       "      <th>2</th>\n",
       "      <td>Arizona</td>\n",
       "      <td>7050299</td>\n",
       "    </tr>\n",
       "    <tr>\n",
       "      <th>3</th>\n",
       "      <td>Arkansas</td>\n",
       "      <td>2999370</td>\n",
       "    </tr>\n",
       "    <tr>\n",
       "      <th>4</th>\n",
       "      <td>California</td>\n",
       "      <td>39283497</td>\n",
       "    </tr>\n",
       "  </tbody>\n",
       "</table>\n",
       "</div>"
      ],
      "text/plain": [
       "         Name  Population\n",
       "0     Alabama     4876250\n",
       "1      Alaska      737068\n",
       "2     Arizona     7050299\n",
       "3    Arkansas     2999370\n",
       "4  California    39283497"
      ]
     },
     "execution_count": 12,
     "metadata": {},
     "output_type": "execute_result"
    }
   ],
   "source": [
    "# Import population data by state\n",
    "Pop_df = pd.read_csv(\"CensusST_19.csv\")\n",
    "Pop_df.head()"
   ]
  },
  {
   "cell_type": "code",
   "execution_count": 13,
   "id": "right-clause",
   "metadata": {},
   "outputs": [
    {
     "data": {
      "text/html": [
       "<div>\n",
       "<style scoped>\n",
       "    .dataframe tbody tr th:only-of-type {\n",
       "        vertical-align: middle;\n",
       "    }\n",
       "\n",
       "    .dataframe tbody tr th {\n",
       "        vertical-align: top;\n",
       "    }\n",
       "\n",
       "    .dataframe thead th {\n",
       "        text-align: right;\n",
       "    }\n",
       "</style>\n",
       "<table border=\"1\" class=\"dataframe\">\n",
       "  <thead>\n",
       "    <tr style=\"text-align: right;\">\n",
       "      <th></th>\n",
       "      <th>State</th>\n",
       "      <th>Population</th>\n",
       "    </tr>\n",
       "  </thead>\n",
       "  <tbody>\n",
       "    <tr>\n",
       "      <th>0</th>\n",
       "      <td>Alabama</td>\n",
       "      <td>4876250</td>\n",
       "    </tr>\n",
       "    <tr>\n",
       "      <th>1</th>\n",
       "      <td>Alaska</td>\n",
       "      <td>737068</td>\n",
       "    </tr>\n",
       "    <tr>\n",
       "      <th>2</th>\n",
       "      <td>Arizona</td>\n",
       "      <td>7050299</td>\n",
       "    </tr>\n",
       "    <tr>\n",
       "      <th>3</th>\n",
       "      <td>Arkansas</td>\n",
       "      <td>2999370</td>\n",
       "    </tr>\n",
       "    <tr>\n",
       "      <th>4</th>\n",
       "      <td>California</td>\n",
       "      <td>39283497</td>\n",
       "    </tr>\n",
       "  </tbody>\n",
       "</table>\n",
       "</div>"
      ],
      "text/plain": [
       "        State  Population\n",
       "0     Alabama     4876250\n",
       "1      Alaska      737068\n",
       "2     Arizona     7050299\n",
       "3    Arkansas     2999370\n",
       "4  California    39283497"
      ]
     },
     "execution_count": 13,
     "metadata": {},
     "output_type": "execute_result"
    }
   ],
   "source": [
    "# I think I need to rename a column to make the join\n",
    "Pop_df.rename(columns = {'Name':'State'}, inplace = True) \n",
    "Pop_df.head()"
   ]
  },
  {
   "cell_type": "code",
   "execution_count": 14,
   "id": "raising-consolidation",
   "metadata": {},
   "outputs": [
    {
     "data": {
      "text/html": [
       "<div>\n",
       "<style scoped>\n",
       "    .dataframe tbody tr th:only-of-type {\n",
       "        vertical-align: middle;\n",
       "    }\n",
       "\n",
       "    .dataframe tbody tr th {\n",
       "        vertical-align: top;\n",
       "    }\n",
       "\n",
       "    .dataframe thead th {\n",
       "        text-align: right;\n",
       "    }\n",
       "</style>\n",
       "<table border=\"1\" class=\"dataframe\">\n",
       "  <thead>\n",
       "    <tr style=\"text-align: right;\">\n",
       "      <th></th>\n",
       "      <th>State</th>\n",
       "      <th>Population</th>\n",
       "      <th>date</th>\n",
       "      <th>STABBREV</th>\n",
       "      <th>positive</th>\n",
       "      <th>Tot_Deliv</th>\n",
       "      <th>Tot_Admin</th>\n",
       "      <th>First_Dose</th>\n",
       "      <th>Two_Doses</th>\n",
       "    </tr>\n",
       "  </thead>\n",
       "  <tbody>\n",
       "    <tr>\n",
       "      <th>0</th>\n",
       "      <td>Alabama</td>\n",
       "      <td>4876250</td>\n",
       "      <td>20210206</td>\n",
       "      <td>AL</td>\n",
       "      <td>471311</td>\n",
       "      <td>804100</td>\n",
       "      <td>455173</td>\n",
       "      <td>370275</td>\n",
       "      <td>84278</td>\n",
       "    </tr>\n",
       "    <tr>\n",
       "      <th>1</th>\n",
       "      <td>Alaska</td>\n",
       "      <td>737068</td>\n",
       "      <td>20210206</td>\n",
       "      <td>AK</td>\n",
       "      <td>53279</td>\n",
       "      <td>248500</td>\n",
       "      <td>139147</td>\n",
       "      <td>103163</td>\n",
       "      <td>35773</td>\n",
       "    </tr>\n",
       "    <tr>\n",
       "      <th>2</th>\n",
       "      <td>Arizona</td>\n",
       "      <td>7050299</td>\n",
       "      <td>20210206</td>\n",
       "      <td>AZ</td>\n",
       "      <td>779093</td>\n",
       "      <td>1186000</td>\n",
       "      <td>766788</td>\n",
       "      <td>629750</td>\n",
       "      <td>136236</td>\n",
       "    </tr>\n",
       "    <tr>\n",
       "      <th>3</th>\n",
       "      <td>Arkansas</td>\n",
       "      <td>2999370</td>\n",
       "      <td>20210206</td>\n",
       "      <td>AR</td>\n",
       "      <td>306064</td>\n",
       "      <td>540050</td>\n",
       "      <td>374674</td>\n",
       "      <td>290153</td>\n",
       "      <td>81564</td>\n",
       "    </tr>\n",
       "    <tr>\n",
       "      <th>4</th>\n",
       "      <td>California</td>\n",
       "      <td>39283497</td>\n",
       "      <td>20210206</td>\n",
       "      <td>CA</td>\n",
       "      <td>3320862</td>\n",
       "      <td>6963500</td>\n",
       "      <td>4137600</td>\n",
       "      <td>3389906</td>\n",
       "      <td>727993</td>\n",
       "    </tr>\n",
       "  </tbody>\n",
       "</table>\n",
       "</div>"
      ],
      "text/plain": [
       "        State  Population      date STABBREV  positive  Tot_Deliv  Tot_Admin  \\\n",
       "0     Alabama     4876250  20210206       AL    471311     804100     455173   \n",
       "1      Alaska      737068  20210206       AK     53279     248500     139147   \n",
       "2     Arizona     7050299  20210206       AZ    779093    1186000     766788   \n",
       "3    Arkansas     2999370  20210206       AR    306064     540050     374674   \n",
       "4  California    39283497  20210206       CA   3320862    6963500    4137600   \n",
       "\n",
       "   First_Dose  Two_Doses  \n",
       "0      370275      84278  \n",
       "1      103163      35773  \n",
       "2      629750     136236  \n",
       "3      290153      81564  \n",
       "4     3389906     727993  "
      ]
     },
     "execution_count": 14,
     "metadata": {},
     "output_type": "execute_result"
    }
   ],
   "source": [
    "# merge vaccine/case data with Census data on state name\n",
    "merge_final = Pop_df.merge(VaxCase_df, how='outer', on='State')\n",
    "merge_final.head()"
   ]
  },
  {
   "cell_type": "code",
   "execution_count": 15,
   "id": "flush-ending",
   "metadata": {
    "scrolled": true
   },
   "outputs": [
    {
     "data": {
      "text/html": [
       "<div>\n",
       "<style scoped>\n",
       "    .dataframe tbody tr th:only-of-type {\n",
       "        vertical-align: middle;\n",
       "    }\n",
       "\n",
       "    .dataframe tbody tr th {\n",
       "        vertical-align: top;\n",
       "    }\n",
       "\n",
       "    .dataframe thead th {\n",
       "        text-align: right;\n",
       "    }\n",
       "</style>\n",
       "<table border=\"1\" class=\"dataframe\">\n",
       "  <thead>\n",
       "    <tr style=\"text-align: right;\">\n",
       "      <th></th>\n",
       "      <th>State</th>\n",
       "      <th>Population</th>\n",
       "      <th>date</th>\n",
       "      <th>STABBREV</th>\n",
       "      <th>positive</th>\n",
       "      <th>Tot_Deliv</th>\n",
       "      <th>Tot_Admin</th>\n",
       "      <th>First_Dose</th>\n",
       "      <th>Two_Doses</th>\n",
       "      <th>perpos</th>\n",
       "      <th>pervax_2</th>\n",
       "      <th>perimm</th>\n",
       "      <th>per60</th>\n",
       "      <th>per80</th>\n",
       "      <th>caseRT</th>\n",
       "    </tr>\n",
       "  </thead>\n",
       "  <tbody>\n",
       "    <tr>\n",
       "      <th>0</th>\n",
       "      <td>Alabama</td>\n",
       "      <td>4876250</td>\n",
       "      <td>20210206</td>\n",
       "      <td>AL</td>\n",
       "      <td>471311</td>\n",
       "      <td>804100</td>\n",
       "      <td>455173</td>\n",
       "      <td>370275</td>\n",
       "      <td>84278</td>\n",
       "      <td>9.665440</td>\n",
       "      <td>1.728336</td>\n",
       "      <td>11.393776</td>\n",
       "      <td>2925750.0</td>\n",
       "      <td>3901000.0</td>\n",
       "      <td>9665.439631</td>\n",
       "    </tr>\n",
       "    <tr>\n",
       "      <th>1</th>\n",
       "      <td>Alaska</td>\n",
       "      <td>737068</td>\n",
       "      <td>20210206</td>\n",
       "      <td>AK</td>\n",
       "      <td>53279</td>\n",
       "      <td>248500</td>\n",
       "      <td>139147</td>\n",
       "      <td>103163</td>\n",
       "      <td>35773</td>\n",
       "      <td>7.228505</td>\n",
       "      <td>4.853419</td>\n",
       "      <td>12.081925</td>\n",
       "      <td>442240.8</td>\n",
       "      <td>589654.4</td>\n",
       "      <td>7228.505375</td>\n",
       "    </tr>\n",
       "    <tr>\n",
       "      <th>2</th>\n",
       "      <td>Arizona</td>\n",
       "      <td>7050299</td>\n",
       "      <td>20210206</td>\n",
       "      <td>AZ</td>\n",
       "      <td>779093</td>\n",
       "      <td>1186000</td>\n",
       "      <td>766788</td>\n",
       "      <td>629750</td>\n",
       "      <td>136236</td>\n",
       "      <td>11.050496</td>\n",
       "      <td>1.932344</td>\n",
       "      <td>12.982839</td>\n",
       "      <td>4230179.4</td>\n",
       "      <td>5640239.2</td>\n",
       "      <td>11050.495873</td>\n",
       "    </tr>\n",
       "    <tr>\n",
       "      <th>3</th>\n",
       "      <td>Arkansas</td>\n",
       "      <td>2999370</td>\n",
       "      <td>20210206</td>\n",
       "      <td>AR</td>\n",
       "      <td>306064</td>\n",
       "      <td>540050</td>\n",
       "      <td>374674</td>\n",
       "      <td>290153</td>\n",
       "      <td>81564</td>\n",
       "      <td>10.204276</td>\n",
       "      <td>2.719371</td>\n",
       "      <td>12.923647</td>\n",
       "      <td>1799622.0</td>\n",
       "      <td>2399496.0</td>\n",
       "      <td>10204.276231</td>\n",
       "    </tr>\n",
       "    <tr>\n",
       "      <th>4</th>\n",
       "      <td>California</td>\n",
       "      <td>39283497</td>\n",
       "      <td>20210206</td>\n",
       "      <td>CA</td>\n",
       "      <td>3320862</td>\n",
       "      <td>6963500</td>\n",
       "      <td>4137600</td>\n",
       "      <td>3389906</td>\n",
       "      <td>727993</td>\n",
       "      <td>8.453580</td>\n",
       "      <td>1.853178</td>\n",
       "      <td>10.306758</td>\n",
       "      <td>23570098.2</td>\n",
       "      <td>31426797.6</td>\n",
       "      <td>8453.580393</td>\n",
       "    </tr>\n",
       "  </tbody>\n",
       "</table>\n",
       "</div>"
      ],
      "text/plain": [
       "        State  Population      date STABBREV  positive  Tot_Deliv  Tot_Admin  \\\n",
       "0     Alabama     4876250  20210206       AL    471311     804100     455173   \n",
       "1      Alaska      737068  20210206       AK     53279     248500     139147   \n",
       "2     Arizona     7050299  20210206       AZ    779093    1186000     766788   \n",
       "3    Arkansas     2999370  20210206       AR    306064     540050     374674   \n",
       "4  California    39283497  20210206       CA   3320862    6963500    4137600   \n",
       "\n",
       "   First_Dose  Two_Doses     perpos  pervax_2     perimm       per60  \\\n",
       "0      370275      84278   9.665440  1.728336  11.393776   2925750.0   \n",
       "1      103163      35773   7.228505  4.853419  12.081925    442240.8   \n",
       "2      629750     136236  11.050496  1.932344  12.982839   4230179.4   \n",
       "3      290153      81564  10.204276  2.719371  12.923647   1799622.0   \n",
       "4     3389906     727993   8.453580  1.853178  10.306758  23570098.2   \n",
       "\n",
       "        per80        caseRT  \n",
       "0   3901000.0   9665.439631  \n",
       "1    589654.4   7228.505375  \n",
       "2   5640239.2  11050.495873  \n",
       "3   2399496.0  10204.276231  \n",
       "4  31426797.6   8453.580393  "
      ]
     },
     "execution_count": 15,
     "metadata": {},
     "output_type": "execute_result"
    }
   ],
   "source": [
    "merge_final['perpos'] = merge_final['positive']/ merge_final['Population']*100\n",
    "merge_final['pervax_2'] = merge_final['Two_Doses']/ merge_final['Population']*100\n",
    "merge_final['perimm'] = (merge_final['Two_Doses'] + merge_final['positive'])/ merge_final['Population']*100\n",
    "merge_final['per60'] = merge_final['Population']*.6\n",
    "merge_final['per80'] = merge_final['Population']*.8\n",
    "merge_final['caseRT'] = merge_final['positive']/merge_final['Population']*100000\n",
    "merge_final.head()"
   ]
  },
  {
   "cell_type": "code",
   "execution_count": 16,
   "id": "martial-samuel",
   "metadata": {},
   "outputs": [],
   "source": [
    "merge_final.to_csv(\"Merge_case_vax_pop_09FEB21.csv\", index=False)"
   ]
  },
  {
   "cell_type": "code",
   "execution_count": 19,
   "id": "swedish-hierarchy",
   "metadata": {},
   "outputs": [
    {
     "data": {
      "image/png": "[encoded data removed]",
      "text/plain": [
       "<Figure size 1440x360 with 1 Axes>"
      ]
     },
     "metadata": {
      "needs_background": "light"
     },
     "output_type": "display_data"
    }
   ],
   "source": [
    "# Idea here is to do a stacked bar for each state which shows %cases and %vax for each state\n",
    "# Would also like to show a symbol for where on the bar 60% and 80% of the population would fall\n",
    "# y-axis in bold\n",
    "\n",
    "Immunity = merge_final.plot(x='STABBREV', y=['perpos', 'pervax_2'], kind=\"bar\", stacked = True, figsize=(20,5),color={'pervax_2': \"yellowgreen\", 'perpos': \"tomato\"})\n",
    "\n",
    "Immunity.set_ylim((0, 60))\n",
    "Immunity.set_xlabel(\"State\")\n",
    "Immunity.set_ylabel(\"% Potentially Immune\")\n",
    "Immunity.legend([\"Percent positive\", \"Percent with second dose\"]);\n",
    "# Immunity.axhline(0, color='k')\n",
    "plt.xticks(rotation=45 )\n",
    "plt.grid(True)\n",
    "plt.title(\"Potential Percent of Population with Immunity (as of Feb.6, 2021)\",fontsize=20,fontname=\"Franklin Gothic Medium\")\n",
    "plt.savefig('ImmunityBar.png', dpi=300)\n"
   ]
  },
  {
   "cell_type": "code",
   "execution_count": 22,
   "id": "prompt-financing",
   "metadata": {},
   "outputs": [
    {
     "data": {
      "image/png": "[encoded data removed]",
      "text/plain": [
       "<Figure size 864x360 with 1 Axes>"
      ]
     },
     "metadata": {
      "needs_background": "light"
     },
     "output_type": "display_data"
    }
   ],
   "source": [
    "plt.figure(figsize=(12,5))\n",
    "plt.scatter(merge_final.iloc[:,1],VaxCase_df.iloc[:,5])\n",
    "plt.xlabel('Population (millions)')\n",
    "plt.ylabel('Vaccines delivered to state (millions)')\n",
    "plt.title(\"Population and vaccines distributed\")\n",
    "\n",
    "plt.show()"
   ]
  },
  {
   "cell_type": "code",
   "execution_count": null,
   "id": "every-grove",
   "metadata": {},
   "outputs": [],
   "source": []
  }
 ],
 "metadata": {
  "kernelspec": {
   "display_name": "Python 3",
   "language": "python",
   "name": "python3"
  },
  "language_info": {
   "codemirror_mode": {
    "name": "ipython",
    "version": 3
   },
   "file_extension": ".py",
   "mimetype": "text/x-python",
   "name": "python",
   "nbconvert_exporter": "python",
   "pygments_lexer": "ipython3",
   "version": "3.6.12"
  }
 },
 "nbformat": 4,
 "nbformat_minor": 5
}
